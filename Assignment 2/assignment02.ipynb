{
 "cells": [
  {
   "cell_type": "markdown",
   "metadata": {},
   "source": [
    "# Assignment 2\n",
    "- Donwload the credit dataset 'Credit.csv' from  https://github.com/vahidpartovinia/ycbs255/\n",
    "- Create the attribute matrix  'X' as a subset of the data that includes only the qualitative attributes 'Income', 'Limit', 'Rating', 'Cards', 'Age', and 'Education'\n",
    "- Create a discrete response variable, say 'y' by transforming 'Balance' to a binary output, which equals 1 if 'Balance > 1500' and equals 0 otherwise.\n",
    "- Fit 1- logistic regression, 2- linear discriminant, and 3- quadratic discriminant on the binary Balance as the output variable. Use 'Income', 'Limit', 'Rating', 'Cards', 'Age', and 'Education' as the input variables. \n",
    "- Find the probability of (Balance > 1500), for x1 and x2 below, using these three methods. Compare these probabilities and comment.\n",
    "\n",
    "\n",
    "x1= 'Income' = 63, 'Limit' = 8100, 'Rating' = 600, 'Cards' = 4, 'Age' = 30, 'Education' =14 \n",
    "\n",
    "x2= 'Income' = 186, 'Limit' = 13414, 'Rating' = 950, 'Cards' = 2, 'Age' = 41, 'Education' =13 \n",
    "\n",
    "# Submission note\n",
    "Please fill this jupyter notebook. Extract the pdf file as follows. On  Jupyter manue go to File/Print Preview, then on Browser menu go to File/Print. \n",
    "\n",
    "## Only PDF  Submissions will be graded\n"
   ]
  },
  {
   "cell_type": "code",
   "execution_count": null,
   "metadata": {
    "collapsed": true
   },
   "outputs": [],
   "source": []
  }
 ],
 "metadata": {
  "kernelspec": {
   "display_name": "Python 3",
   "language": "python",
   "name": "python3"
  },
  "language_info": {
   "codemirror_mode": {
    "name": "ipython",
    "version": 3
   },
   "file_extension": ".py",
   "mimetype": "text/x-python",
   "name": "python",
   "nbconvert_exporter": "python",
   "pygments_lexer": "ipython3",
   "version": "3.6.5"
  }
 },
 "nbformat": 4,
 "nbformat_minor": 2
}
