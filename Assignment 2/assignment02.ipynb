{
 "cells": [
  {
   "cell_type": "markdown",
   "metadata": {},
   "source": [
    "# Assignment 2\n",
    "- Donwload the credit dataset 'Credit.csv' from  https://github.com/vahidpartovinia/ycbs255/\n",
    "- Create the attribute matrix  'X' as a subset of the data that includes only the qualitative attributes 'Income', 'Limit', 'Rating', 'Cards', 'Age', and 'Education'\n",
    "- Create a discrete response variable, say 'y' by transforming 'Balance' to a binary output, which equals 1 if 'Balance > 1500' and equals 0 otherwise.\n",
    "- Fit 1- logistic regression, 2- linear discriminant, and 3- quadratic discriminant on the binary Balance as the output variable. Use 'Income', 'Limit', 'Rating', 'Cards', 'Age', and 'Education' as the input variables. \n",
    "- Find the probability of (Balance > 1500), for x1 and x2 below, using these three methods. Compare these probabilities and comment.\n",
    "\n",
    "\n",
    "x1= 'Income' = 63, 'Limit' = 8100, 'Rating' = 600, 'Cards' = 4, 'Age' = 30, 'Education' =14 \n",
    "\n",
    "x2= 'Income' = 186, 'Limit' = 13414, 'Rating' = 950, 'Cards' = 2, 'Age' = 41, 'Education' =13 \n",
    "\n",
    "# Submission note\n",
    "Please fill this jupyter notebook. Extract the pdf file as follows. On  Jupyter manue go to File/Print Preview, then on Browser menu go to File/Print. \n",
    "\n",
    "## Only PDF  Submissions will be graded\n"
   ]
  },
  {
   "cell_type": "code",
   "execution_count": 1,
   "metadata": {},
   "outputs": [],
   "source": [
    "import pandas as pd\n",
    "import numpy as np\n",
    "import matplotlib.pyplot as plt\n",
    "%matplotlib inline"
   ]
  },
  {
   "cell_type": "code",
   "execution_count": 2,
   "metadata": {},
   "outputs": [],
   "source": [
    "credit = pd.read_csv(r\"C:\\Users\\olive\\Documents\\GitHub\\Computational-Applied-Statistics\\Assignment 2\\Credit.CSV\", \n",
    "                 encoding='utf-8', index_col=0)\n",
    "credit = credit[['Balance', 'Income', 'Limit', 'Rating', 'Cards', 'Age', 'Education']]\n",
    "X = credit[['Income', 'Limit', 'Rating', 'Cards', 'Age', 'Education']]\n",
    "y = np.array([1.0 if x>1500 else 0 for x in credit['Balance']])"
   ]
  },
  {
   "cell_type": "code",
   "execution_count": 3,
   "metadata": {
    "scrolled": true
   },
   "outputs": [
    {
     "data": {
      "text/html": [
       "<div>\n",
       "<style scoped>\n",
       "    .dataframe tbody tr th:only-of-type {\n",
       "        vertical-align: middle;\n",
       "    }\n",
       "\n",
       "    .dataframe tbody tr th {\n",
       "        vertical-align: top;\n",
       "    }\n",
       "\n",
       "    .dataframe thead th {\n",
       "        text-align: right;\n",
       "    }\n",
       "</style>\n",
       "<table border=\"1\" class=\"dataframe\">\n",
       "  <thead>\n",
       "    <tr style=\"text-align: right;\">\n",
       "      <th></th>\n",
       "      <th>Income</th>\n",
       "      <th>Limit</th>\n",
       "      <th>Rating</th>\n",
       "      <th>Cards</th>\n",
       "      <th>Age</th>\n",
       "      <th>Education</th>\n",
       "    </tr>\n",
       "  </thead>\n",
       "  <tbody>\n",
       "    <tr>\n",
       "      <th>1</th>\n",
       "      <td>14.891</td>\n",
       "      <td>3606</td>\n",
       "      <td>283</td>\n",
       "      <td>2</td>\n",
       "      <td>34</td>\n",
       "      <td>11</td>\n",
       "    </tr>\n",
       "    <tr>\n",
       "      <th>2</th>\n",
       "      <td>106.025</td>\n",
       "      <td>6645</td>\n",
       "      <td>483</td>\n",
       "      <td>3</td>\n",
       "      <td>82</td>\n",
       "      <td>15</td>\n",
       "    </tr>\n",
       "    <tr>\n",
       "      <th>3</th>\n",
       "      <td>104.593</td>\n",
       "      <td>7075</td>\n",
       "      <td>514</td>\n",
       "      <td>4</td>\n",
       "      <td>71</td>\n",
       "      <td>11</td>\n",
       "    </tr>\n",
       "    <tr>\n",
       "      <th>4</th>\n",
       "      <td>148.924</td>\n",
       "      <td>9504</td>\n",
       "      <td>681</td>\n",
       "      <td>3</td>\n",
       "      <td>36</td>\n",
       "      <td>11</td>\n",
       "    </tr>\n",
       "    <tr>\n",
       "      <th>5</th>\n",
       "      <td>55.882</td>\n",
       "      <td>4897</td>\n",
       "      <td>357</td>\n",
       "      <td>2</td>\n",
       "      <td>68</td>\n",
       "      <td>16</td>\n",
       "    </tr>\n",
       "  </tbody>\n",
       "</table>\n",
       "</div>"
      ],
      "text/plain": [
       "    Income  Limit  Rating  Cards  Age  Education\n",
       "1   14.891   3606     283      2   34         11\n",
       "2  106.025   6645     483      3   82         15\n",
       "3  104.593   7075     514      4   71         11\n",
       "4  148.924   9504     681      3   36         11\n",
       "5   55.882   4897     357      2   68         16"
      ]
     },
     "execution_count": 3,
     "metadata": {},
     "output_type": "execute_result"
    }
   ],
   "source": [
    "X.head()"
   ]
  },
  {
   "cell_type": "markdown",
   "metadata": {},
   "source": [
    "### Logistic Regression"
   ]
  },
  {
   "cell_type": "code",
   "execution_count": 4,
   "metadata": {},
   "outputs": [
    {
     "data": {
      "text/plain": [
       "LogisticRegression(C=1.0, class_weight=None, dual=False, fit_intercept=True,\n",
       "          intercept_scaling=1, max_iter=100, multi_class='ovr', n_jobs=1,\n",
       "          penalty='l2', random_state=None, solver='liblinear', tol=0.0001,\n",
       "          verbose=0, warm_start=False)"
      ]
     },
     "execution_count": 4,
     "metadata": {},
     "output_type": "execute_result"
    }
   ],
   "source": [
    "from sklearn.linear_model import LogisticRegression\n",
    "model_logreg = LogisticRegression()\n",
    "model_logreg.fit(X=X, y=y)"
   ]
  },
  {
   "cell_type": "markdown",
   "metadata": {},
   "source": [
    "### Linear Discriminant"
   ]
  },
  {
   "cell_type": "code",
   "execution_count": 5,
   "metadata": {},
   "outputs": [
    {
     "data": {
      "text/plain": [
       "LinearDiscriminantAnalysis(n_components=None, priors=None, shrinkage=None,\n",
       "              solver='svd', store_covariance=False, tol=0.0001)"
      ]
     },
     "execution_count": 5,
     "metadata": {},
     "output_type": "execute_result"
    }
   ],
   "source": [
    "from sklearn.discriminant_analysis import LinearDiscriminantAnalysis\n",
    "model_lindisc = LinearDiscriminantAnalysis()\n",
    "model_lindisc.fit(X=X, y=y)"
   ]
  },
  {
   "cell_type": "markdown",
   "metadata": {},
   "source": [
    "### Quadratic Discriminant"
   ]
  },
  {
   "cell_type": "code",
   "execution_count": 6,
   "metadata": {},
   "outputs": [
    {
     "data": {
      "text/plain": [
       "QuadraticDiscriminantAnalysis(priors=None, reg_param=0.0,\n",
       "               store_covariance=False, store_covariances=None, tol=0.0001)"
      ]
     },
     "execution_count": 6,
     "metadata": {},
     "output_type": "execute_result"
    }
   ],
   "source": [
    "from sklearn.discriminant_analysis import QuadraticDiscriminantAnalysis\n",
    "model_quaddisc = QuadraticDiscriminantAnalysis()\n",
    "model_quaddisc.fit(X=X, y=y)"
   ]
  },
  {
   "cell_type": "markdown",
   "metadata": {},
   "source": [
    "#### Inputs"
   ]
  },
  {
   "cell_type": "code",
   "execution_count": 7,
   "metadata": {},
   "outputs": [],
   "source": [
    "x1 = np.array([63, 8100, 600, 4, 30, 14]).reshape(1,6)\n",
    "x2 = np.array([186, 13414, 950, 2, 41, 13]).reshape(1,6)"
   ]
  },
  {
   "cell_type": "markdown",
   "metadata": {},
   "source": [
    "#### x1"
   ]
  },
  {
   "cell_type": "code",
   "execution_count": 8,
   "metadata": {
    "scrolled": true
   },
   "outputs": [
    {
     "name": "stdout",
     "output_type": "stream",
     "text": [
      "Logistic Regression Probability of Balance over $1500: 0.06772607299949442\n",
      "Linear Discriminant Probability of Balance over $1500: 0.05855428095398292\n",
      "Quadratic Discriminant Probability of Balance over $1500: 1.2441920661065055e-09\n"
     ]
    }
   ],
   "source": [
    "print(\"Logistic Regression Probability of Balance over $1500: {}\".format(model_logreg.predict_proba(x1)[:, 1][0]))\n",
    "print(\"Linear Discriminant Probability of Balance over $1500: {}\".format(model_lindisc.predict_proba(x1)[:, 1][0]))\n",
    "print(\"Quadratic Discriminant Probability of Balance over $1500: {}\".format(model_quaddisc.predict_proba(x1)[:, 1][0]))"
   ]
  },
  {
   "cell_type": "markdown",
   "metadata": {},
   "source": [
    "#### x2"
   ]
  },
  {
   "cell_type": "code",
   "execution_count": 9,
   "metadata": {},
   "outputs": [
    {
     "name": "stdout",
     "output_type": "stream",
     "text": [
      "Logistic Regression Probability of Balance over $1500: 0.8270789019811116\n",
      "Linear Discriminant Probability of Balance over $1500: 0.9927880109254115\n",
      "Quadratic Discriminant Probability of Balance over $1500: 0.9992169422475801\n"
     ]
    }
   ],
   "source": [
    "print(\"Logistic Regression Probability of Balance over $1500: {}\".format(model_logreg.predict_proba(x2)[:, 1][0]))\n",
    "print(\"Linear Discriminant Probability of Balance over $1500: {}\".format(model_lindisc.predict_proba(x2)[:, 1][0]))\n",
    "print(\"Quadratic Discriminant Probability of Balance over $1500: {}\".format(model_quaddisc.predict_proba(x2)[:, 1][0]))"
   ]
  },
  {
   "cell_type": "markdown",
   "metadata": {},
   "source": [
    "## Comments"
   ]
  },
  {
   "cell_type": "markdown",
   "metadata": {},
   "source": [
    "From the results above it seems that the order of \"certainty\" of prediction of balance over 1500 is ordered Logistic Regression, Linear Discriminant, and Quadratic Discriminant (ordered from less certain to more certain). X1 data point seems to represent a subject that is unlikely to have a balance over 1500 while X2 a subject that is likely to have over this balance. With this being said the Quadratic Discriminant result is more certain of this prediction by the probability generated while the Logistic Regression result is the least certain (lower probability)."
   ]
  },
  {
   "cell_type": "markdown",
   "metadata": {},
   "source": [
    "One of the ways Linear Discriminant and Quadratic Discriminant are different from Logistic Regression is that using the discriminant models we are modelling the distribution of the predictors (X) separately for each response class (Y). Using Bayes' theorem we can flip these into estimates of class Y given X is true. The linear discriminant and quadratic discriminant also assumes that the observations from each class are drawn from a Gaussian distribution. "
   ]
  },
  {
   "cell_type": "markdown",
   "metadata": {},
   "source": [
    "The difference between QDA and LDA is that QDA assumes that each class has its own covariance matrix (not true for LDA). The drawback to LDA is that if the assumption that the K classes share a common covariance matrix is too \"off\" - then it can suffer from a high bias (something to keep in mind when using this model). The affect on QDA is that assuming each class has it's own covariance matrix increases the number of parameters needing to be computed over LDA. Since the number of predictors we are using in this dataset is small (6) we will not be heavily punished for this (appealing in the argument for using QDA in our case). QDA can also be punished if the number of observations is small - which is not the case in our dataset (400 observations). Since our dataset is avoiding the drawbacks of using QDA we should use this model for better prediction results (QDA allows for a higher variance in the model classes leading to better performance). QDA is said to be more \"flexible\" for this reason."
   ]
  },
  {
   "cell_type": "markdown",
   "metadata": {},
   "source": [
    "It seems that since the class of y is imbalanced (significantly more samples have a balance less than 1500) linear and quadratic discriminant analysis will out-perform logistic regression. This is due to the fact that imbalanced datasets will affect the logistic regression intercept. This is to say that the probabilty of the class will be moved and skew probabilities towards the more represented class."
   ]
  },
  {
   "cell_type": "markdown",
   "metadata": {},
   "source": [
    "If the classes of Y are well-separated, the sample size is small, and the predictors (X) are approximately normal in each class - logistic regression is said to be unstable. Since the distribution of features in X seem to be somewhat normally distributed this might cause a problem for logistic regression (see below for histograms of X features for both classes)."
   ]
  },
  {
   "cell_type": "markdown",
   "metadata": {},
   "source": [
    "In conclusion - the argument against logistic regression is that the predictors are approximately normally distributed and the class is imbalanced (leading to an unstable & lower-performing model of the under-represented class). With this in mind, the argument for QDA over LDA is that we have few predictors and a large dataset so we can take full advantage of the power/flexibility of QDA while avoiding it's pitfalls. The advantage then of using QDA is that we can have a larger variance of the model classes and therefore increase performance (more flexible)."
   ]
  },
  {
   "cell_type": "markdown",
   "metadata": {},
   "source": [
    "## Reccomendation: use QDA."
   ]
  },
  {
   "cell_type": "markdown",
   "metadata": {},
   "source": [
    "### Histograms of features (X) for both classes"
   ]
  },
  {
   "cell_type": "code",
   "execution_count": 10,
   "metadata": {},
   "outputs": [
    {
     "data": {
      "text/plain": [
       "array([[<matplotlib.axes._subplots.AxesSubplot object at 0x0000016BA6D2E6A0>,\n",
       "        <matplotlib.axes._subplots.AxesSubplot object at 0x0000016BA74B1C88>],\n",
       "       [<matplotlib.axes._subplots.AxesSubplot object at 0x0000016BA74E8320>,\n",
       "        <matplotlib.axes._subplots.AxesSubplot object at 0x0000016BA750F9B0>],\n",
       "       [<matplotlib.axes._subplots.AxesSubplot object at 0x0000016BA753F080>,\n",
       "        <matplotlib.axes._subplots.AxesSubplot object at 0x0000016BA753F0B8>]],\n",
       "      dtype=object)"
      ]
     },
     "execution_count": 10,
     "metadata": {},
     "output_type": "execute_result"
    },
    {
     "data": {
      "image/png": "[encoded data removed]",
      "text/plain": [
       "<Figure size 432x288 with 6 Axes>"
      ]
     },
     "metadata": {},
     "output_type": "display_data"
    }
   ],
   "source": [
    "X[y==1].hist()"
   ]
  },
  {
   "cell_type": "code",
   "execution_count": 11,
   "metadata": {},
   "outputs": [
    {
     "data": {
      "text/plain": [
       "array([[<matplotlib.axes._subplots.AxesSubplot object at 0x0000016BA6D14AC8>,\n",
       "        <matplotlib.axes._subplots.AxesSubplot object at 0x0000016BA86E2FD0>],\n",
       "       [<matplotlib.axes._subplots.AxesSubplot object at 0x0000016BA870F5C0>,\n",
       "        <matplotlib.axes._subplots.AxesSubplot object at 0x0000016BA8736BA8>],\n",
       "       [<matplotlib.axes._subplots.AxesSubplot object at 0x0000016BA876A240>,\n",
       "        <matplotlib.axes._subplots.AxesSubplot object at 0x0000016BA876A278>]],\n",
       "      dtype=object)"
      ]
     },
     "execution_count": 11,
     "metadata": {},
     "output_type": "execute_result"
    },
    {
     "data": {
      "image/png": "[encoded data removed]",
      "text/plain": [
       "<Figure size 432x288 with 6 Axes>"
      ]
     },
     "metadata": {},
     "output_type": "display_data"
    }
   ],
   "source": [
    "X[y==0].hist()"
   ]
  }
 ],
 "metadata": {
  "kernelspec": {
   "display_name": "Python 3",
   "language": "python",
   "name": "python3"
  },
  "language_info": {
   "codemirror_mode": {
    "name": "ipython",
    "version": 3
   },
   "file_extension": ".py",
   "mimetype": "text/x-python",
   "name": "python",
   "nbconvert_exporter": "python",
   "pygments_lexer": "ipython3",
   "version": "3.6.5"
  }
 },
 "nbformat": 4,
 "nbformat_minor": 2
}
