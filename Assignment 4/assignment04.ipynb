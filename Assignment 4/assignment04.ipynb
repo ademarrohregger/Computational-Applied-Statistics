{
 "cells": [
  {
   "cell_type": "markdown",
   "metadata": {},
   "source": [
    "# Assignment 4\n",
    "- Donwload  ziptrain.csv and ziptest.csv datasets from  https://github.com/vahidpartovinia/ycbs255/\n",
    "\n",
    "# Digit learning challenge\n",
    "- Use the methods taught in the course, or a good combination of the methods taught in the course to predict all 10 digits of the zipcode data. Only use ziptrain.csv data to build your model, and evaluate the accuracy of your model on ziptest.csv \n",
    "\n",
    "- Your codes must be reproducible. We may run your codes on ziptrain.csv data on our own machine. \n",
    "\n",
    "# Submission note\n",
    "Please fill this jupyter notebook. Extract the pdf file as follows. On  Jupyter manue go to File/Print Preview, then on Browser menu go to File/Print. \n",
    "\n",
    "## Only PDF  Submissions will be graded\n"
   ]
  },
  {
   "cell_type": "markdown",
   "metadata": {},
   "source": [
    "# Import Libraries/Modules/Objects"
   ]
  },
  {
   "cell_type": "code",
   "execution_count": 1,
   "metadata": {},
   "outputs": [],
   "source": [
    "import pandas as pd\n",
    "import numpy as np\n",
    "import matplotlib.pyplot as plt\n",
    "from collections import namedtuple\n",
    "import time\n",
    "%matplotlib inline"
   ]
  },
  {
   "cell_type": "code",
   "execution_count": 2,
   "metadata": {},
   "outputs": [],
   "source": [
    "from sklearn.svm import SVC\n",
    "from sklearn.multiclass import OneVsRestClassifier\n",
    "from sklearn.preprocessing import label_binarize\n",
    "from sklearn.model_selection import GridSearchCV\n",
    "from sklearn.decomposition import PCA\n",
    "from sklearn.metrics import accuracy_score\n",
    "from sklearn.discriminant_analysis import LinearDiscriminantAnalysis\n",
    "from sklearn.ensemble import GradientBoostingClassifier\n",
    "from sklearn.ensemble import RandomForestClassifier\n",
    "from sklearn.ensemble import BaggingClassifier"
   ]
  },
  {
   "cell_type": "markdown",
   "metadata": {},
   "source": [
    "# Get Data"
   ]
  },
  {
   "cell_type": "code",
   "execution_count": 3,
   "metadata": {},
   "outputs": [],
   "source": [
    "ziptrain = np.loadtxt(r\"C:\\Users\\olive\\Documents\\GitHub\\Computational-Applied-Statistics\\Assignment 4\\ziptrain.csv\")\n",
    "ziptest = np.loadtxt(r\"C:\\Users\\olive\\Documents\\GitHub\\Computational-Applied-Statistics\\Assignment 4\\ziptest.csv\")"
   ]
  },
  {
   "cell_type": "code",
   "execution_count": 4,
   "metadata": {},
   "outputs": [],
   "source": [
    "X_train, X_test = ziptrain[:, 1:], ziptest[:, 1:]\n",
    "y_train, y_test = ziptrain[:, 0], ziptest[:, 0]"
   ]
  },
  {
   "cell_type": "code",
   "execution_count": 5,
   "metadata": {},
   "outputs": [],
   "source": [
    "y_train = label_binarize(y_train, classes=[0, 1, 2, 3, 4, 5, 6, 7, 8, 9])\n",
    "y_test = label_binarize(y_train, classes=[0, 1, 2, 3, 4, 5, 6, 7, 8, 9])"
   ]
  },
  {
   "cell_type": "markdown",
   "metadata": {},
   "source": [
    "# Review Import"
   ]
  },
  {
   "cell_type": "code",
   "execution_count": 6,
   "metadata": {
    "scrolled": true
   },
   "outputs": [
    {
     "name": "stdout",
     "output_type": "stream",
     "text": [
      "[0 0 0 0 0 0 1 0 0 0]\n"
     ]
    },
    {
     "data": {
      "text/plain": [
       "<matplotlib.image.AxesImage at 0x203d9fdf470>"
      ]
     },
     "execution_count": 6,
     "metadata": {},
     "output_type": "execute_result"
    },
    {
     "data": {
      "image/png": "[encoded data removed]",
      "text/plain": [
       "<Figure size 432x288 with 1 Axes>"
      ]
     },
     "metadata": {},
     "output_type": "display_data"
    }
   ],
   "source": [
    "print(y_train[0])\n",
    "plt.imshow(-X_train[0].reshape(16,16), 'gray')"
   ]
  },
  {
   "cell_type": "markdown",
   "metadata": {},
   "source": [
    "# Define Helper Functions"
   ]
  },
  {
   "cell_type": "code",
   "execution_count": 7,
   "metadata": {},
   "outputs": [],
   "source": [
    "def optimize_num_pc(model, X_train, y_train, X_test, y_test):\n",
    "    \n",
    "    num_feats = len(X_train[0, :])\n",
    "    prec = []\n",
    "    for m in range(2, num_feats):\n",
    "        if m%50==0:\n",
    "            print(m,'/',num_feats)\n",
    "        pca = PCA(n_components=m)\n",
    "        pca.fit(X_train)\n",
    "        Z_train = pca.transform(X_train)\n",
    "        Z_test = pca.transform(X_test)\n",
    "        model.fit(X=Z_train, y=y_train)\n",
    "        y_pred = model.predict(Z_test)\n",
    "        prec.append([int(m), accuracy_score(y_test, y_pred)])\n",
    "    \n",
    "    prec = np.array(prec)\n",
    "    m_maximizer = int(prec[prec[:, 1]==np.max(prec[:, 1])][0][0])\n",
    "        \n",
    "    return m_maximizer"
   ]
  },
  {
   "cell_type": "markdown",
   "metadata": {},
   "source": [
    "# Start Gridsearch"
   ]
  },
  {
   "cell_type": "code",
   "execution_count": 8,
   "metadata": {},
   "outputs": [],
   "source": [
    "Grid = namedtuple(\"Grid\", ['model', 'param_grid'])"
   ]
  },
  {
   "cell_type": "code",
   "execution_count": 9,
   "metadata": {},
   "outputs": [],
   "source": [
    "grids = [\n",
    "    Grid(BaggingClassifier,\n",
    "        {'estimator__n_estimators': [200, 400, 600, 800, 1000],\n",
    "        'estimator__max_samples': [800, 1000, 1200, 1400]}),\n",
    "    Grid(RandomForestClassifier,\n",
    "        {'estimator__max_depth': [70, 80, 90, 100, None],\n",
    "         'estimator__max_features': ['auto', 'sqrt'],\n",
    "         'estimator__n_estimators': [200, 400, 600, 800, 1000]}),\n",
    "    Grid(GradientBoostingClassifier,\n",
    "         {'estimator__max_depth':[3, 4, 5, 6], \n",
    "          'estimator__n_estimators':[100,250,500,750,1000]}),\n",
    "    Grid(SVC, \n",
    "    {\"estimator__C\": [4, 8, 10, 12], \n",
    "     \"estimator__degree\":[3, 4, 5, 6]})\n",
    "]"
   ]
  },
  {
   "cell_type": "code",
   "execution_count": 10,
   "metadata": {},
   "outputs": [],
   "source": [
    "#prec = optimize_num_pc(LinearDiscriminantAnalysis(), X_train, y_train, X_test, y_test)"
   ]
  },
  {
   "cell_type": "markdown",
   "metadata": {},
   "source": [
    "### Fit with 30 CV folds so the mean score is statistically significant"
   ]
  },
  {
   "cell_type": "code",
   "execution_count": 11,
   "metadata": {
    "scrolled": false
   },
   "outputs": [],
   "source": [
    "def perform_gridsearch(grid):\n",
    "\n",
    "    print(\"Starting grid {}\".format(str(grid)))\n",
    "    model = OneVsRestClassifier(grid.model())\n",
    "    gs = GridSearchCV(model, param_grid=grid.param_grid, cv=3, scoring='accuracy', n_jobs=-1, verbose=1)\n",
    "    gs.fit(X_train, y_train)\n",
    "    res = {\"Model\" : grid.model, \"Best Parameters\" : gs.best_params_, \"Accuracy\" : gs.best_score_}\n",
    "    print(\"\\n\")\n",
    "    print(\"Results from grid:\")\n",
    "    print(res)\n",
    "    print(\"\\n\")"
   ]
  },
  {
   "cell_type": "code",
   "execution_count": 12,
   "metadata": {
    "scrolled": false
   },
   "outputs": [
    {
     "name": "stdout",
     "output_type": "stream",
     "text": [
      "Starting grid Grid(model=<class 'sklearn.ensemble.bagging.BaggingClassifier'>, param_grid={'estimator__n_estimators': [200, 400, 600, 800, 1000], 'estimator__max_samples': [800, 1000, 1200, 1400]})\n",
      "Fitting 3 folds for each of 20 candidates, totalling 60 fits\n"
     ]
    },
    {
     "name": "stderr",
     "output_type": "stream",
     "text": [
      "[Parallel(n_jobs=-1)]: Done  34 tasks      | elapsed: 82.9min\n",
      "[Parallel(n_jobs=-1)]: Done  60 out of  60 | elapsed: 156.7min finished\n"
     ]
    },
    {
     "name": "stdout",
     "output_type": "stream",
     "text": [
      "\n",
      "\n",
      "Results from grid:\n",
      "{'Model': <class 'sklearn.ensemble.bagging.BaggingClassifier'>, 'Best Parameters': {'estimator__max_samples': 1400, 'estimator__n_estimators': 1000}, 'Accuracy': 0.8210122068303388}\n",
      "\n",
      "\n",
      "Starting grid Grid(model=<class 'sklearn.ensemble.forest.RandomForestClassifier'>, param_grid={'estimator__max_depth': [70, 80, 90, 100, None], 'estimator__max_features': ['auto', 'sqrt'], 'estimator__n_estimators': [200, 400, 600, 800, 1000]})\n",
      "Fitting 3 folds for each of 50 candidates, totalling 150 fits\n"
     ]
    },
    {
     "name": "stderr",
     "output_type": "stream",
     "text": [
      "[Parallel(n_jobs=-1)]: Done  34 tasks      | elapsed: 11.9min\n",
      "[Parallel(n_jobs=-1)]: Done 150 out of 150 | elapsed: 53.4min finished\n"
     ]
    },
    {
     "name": "stdout",
     "output_type": "stream",
     "text": [
      "\n",
      "\n",
      "Results from grid:\n",
      "{'Model': <class 'sklearn.ensemble.forest.RandomForestClassifier'>, 'Best Parameters': {'estimator__max_depth': 100, 'estimator__max_features': 'auto', 'estimator__n_estimators': 400}, 'Accuracy': 0.8773830750240021}\n",
      "\n",
      "\n",
      "Starting grid Grid(model=<class 'sklearn.ensemble.gradient_boosting.GradientBoostingClassifier'>, param_grid={'estimator__max_depth': [3, 4, 5, 6], 'estimator__n_estimators': [100, 250, 500, 750, 1000]})\n",
      "Fitting 3 folds for each of 20 candidates, totalling 60 fits\n"
     ]
    },
    {
     "name": "stderr",
     "output_type": "stream",
     "text": [
      "[Parallel(n_jobs=-1)]: Done  34 tasks      | elapsed: 45.2min\n",
      "[Parallel(n_jobs=-1)]: Done  60 out of  60 | elapsed: 64.6min finished\n"
     ]
    },
    {
     "name": "stdout",
     "output_type": "stream",
     "text": [
      "\n",
      "\n",
      "Results from grid:\n",
      "{'Model': <class 'sklearn.ensemble.gradient_boosting.GradientBoostingClassifier'>, 'Best Parameters': {'estimator__max_depth': 3, 'estimator__n_estimators': 1000}, 'Accuracy': 0.9215471128788918}\n",
      "\n",
      "\n",
      "Starting grid Grid(model=<class 'sklearn.svm.classes.SVC'>, param_grid={'estimator__C': [4, 8, 10, 12], 'estimator__degree': [3, 4, 5, 6]})\n",
      "Fitting 3 folds for each of 16 candidates, totalling 48 fits\n"
     ]
    },
    {
     "name": "stderr",
     "output_type": "stream",
     "text": [
      "[Parallel(n_jobs=-1)]: Done  48 out of  48 | elapsed:  2.1min finished\n"
     ]
    },
    {
     "name": "stdout",
     "output_type": "stream",
     "text": [
      "\n",
      "\n",
      "Results from grid:\n",
      "{'Model': <class 'sklearn.svm.classes.SVC'>, 'Best Parameters': {'estimator__C': 12, 'estimator__degree': 3}, 'Accuracy': 0.9518584556302291}\n",
      "\n",
      "\n",
      "All Processes Completed Successfully.\n"
     ]
    }
   ],
   "source": [
    "for grid in grids:\n",
    "    perform_gridsearch(grid)\n",
    "print(\"All Processes Completed Successfully.\")"
   ]
  },
  {
   "cell_type": "code",
   "execution_count": null,
   "metadata": {},
   "outputs": [],
   "source": [
    "models =[\n",
    "    BaggingClassifier(**),\n",
    "    RandomForestClassifier,\n",
    "    GradientBoostingClassifier,\n",
    "    SVC\n",
    "]"
   ]
  }
 ],
 "metadata": {
  "kernelspec": {
   "display_name": "Python 3",
   "language": "python",
   "name": "python3"
  },
  "language_info": {
   "codemirror_mode": {
    "name": "ipython",
    "version": 3
   },
   "file_extension": ".py",
   "mimetype": "text/x-python",
   "name": "python",
   "nbconvert_exporter": "python",
   "pygments_lexer": "ipython3",
   "version": "3.6.5"
  }
 },
 "nbformat": 4,
 "nbformat_minor": 2
}
